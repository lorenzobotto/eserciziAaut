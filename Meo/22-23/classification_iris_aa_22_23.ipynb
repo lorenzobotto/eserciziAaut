{
  "cells": [
    {
      "cell_type": "markdown",
      "metadata": {
        "id": "KEKy3XmT7H-U"
      },
      "source": [
        "# # Introduzione ai classificatori\n",
        "\n",
        "Nel seguente programma introduciamo i passi base della classificazione degli esempi di un dataset rappresentato come una matrice"
      ]
    },
    {
      "cell_type": "markdown",
      "metadata": {
        "id": "btrnWCpJ7H-W"
      },
      "source": [
        "Importiamo il package per l'apprendimento degli alberi"
      ]
    },
    {
      "cell_type": "code",
      "execution_count": 1,
      "metadata": {
        "id": "QFXKb7yA7H-X",
        "scrolled": true
      },
      "outputs": [],
      "source": [
        "from sklearn import tree "
      ]
    },
    {
      "cell_type": "markdown",
      "metadata": {
        "id": "1Sx9T_yz7H-f"
      },
      "source": [
        "Definiamo la matrice con i dati (un esempio per riga)\n",
        "e il vettore con il corrispondente valore della variabile target "
      ]
    },
    {
      "cell_type": "code",
      "execution_count": null,
      "metadata": {
        "id": "HDFiRDXq7H-g"
      },
      "outputs": [],
      "source": [
        "# 6 esempi, 3 features per ogni esempio\n",
        "# X sono le features\n",
        "X = [[0, 0, 0], [1, 1, 1], [0, 1, 0], [0, 0, 1], [1, 1, 0], [1, 0, 1]]\n",
        "# Y sono le etichette target\n",
        "Y = [1, 0, 0, 0, 1, 1]"
      ]
    },
    {
      "cell_type": "markdown",
      "metadata": {
        "id": "VLgMBwpZ7H-n"
      },
      "source": [
        "Dichiariamo il modello di classificazione che vogliamo usare e poi lo adattiamo (fit) ai dati"
      ]
    },
    {
      "cell_type": "code",
      "execution_count": null,
      "metadata": {
        "id": "RbHJM2ur7H-o"
      },
      "outputs": [],
      "source": [
        "clf = tree.DecisionTreeClassifier()\n",
        "# Fittiamo il modello sui dati\n",
        "clf = clf.fit(X, Y)"
      ]
    },
    {
      "cell_type": "markdown",
      "metadata": {
        "id": "lUtyP-xO7H-t"
      },
      "source": [
        "Prediciamo il valore della variabile target (e lo visualizziamo) per i dati passati, e usiamo il modello 'fittato' in clf"
      ]
    },
    {
      "cell_type": "code",
      "execution_count": null,
      "metadata": {
        "id": "RTo8XvPr7H-v",
        "outputId": "f2c67b3c-9ce6-4dfb-e69f-ce9120823c53"
      },
      "outputs": [],
      "source": [
        "# Diamo un nuovo esempio che non ha mai visto e vediamo quale classe predice\n",
        "print(clf.predict([[0, 1, 1]]))"
      ]
    },
    {
      "cell_type": "markdown",
      "metadata": {
        "id": "Sw1x57GnM72b"
      },
      "source": [
        "Visualizziamo l'albero appreso. \n",
        "\n",
        "---\n",
        "Prima importiamo la libreria per la visualizzazione dei grafi (graphviz).\n",
        "Poi esportiamo il classificatore in clf in una variabile che contiene la sua descrizione nel linguaggio dot."
      ]
    },
    {
      "cell_type": "code",
      "execution_count": null,
      "metadata": {
        "id": "qP9sNQ2t7H-5",
        "outputId": "7b57e3de-e2a2-4b38-f699-c6c2106e1bf0"
      },
      "outputs": [],
      "source": [
        "import graphviz \n",
        "dot_data = tree.export_graphviz(clf, out_file=None)  \n",
        "graph = graphviz.Source(dot_data)  \n",
        "graph"
      ]
    },
    {
      "cell_type": "markdown",
      "metadata": {
        "id": "9oCMYXsO7H--"
      },
      "source": [
        "Nel seguito usiamo il dataset Iris (dall'archivio dell'Università della California di Irvine (UCI) di Machine Learning)"
      ]
    },
    {
      "cell_type": "code",
      "execution_count": null,
      "metadata": {
        "id": "QICMJ0rv7H-_"
      },
      "outputs": [],
      "source": [
        "from sklearn.datasets import load_iris\n",
        "iris = load_iris()"
      ]
    },
    {
      "cell_type": "markdown",
      "metadata": {
        "id": "JzZnLA4N7H_D"
      },
      "source": [
        "# Dichiariamo il tipo del modello predittivo e i parametri dell'apprendimento dell'algoritmo di induzione del modello ad albero"
      ]
    },
    {
      "cell_type": "code",
      "execution_count": null,
      "metadata": {
        "id": "Ul-cA4Hv7H_E"
      },
      "outputs": [],
      "source": [
        "# Usa come criterio di split entropy\n",
        "# Inizializza in maniera casuale il random state pari a 300 (per fare delle scelte di suddivisione di training e test set)\n",
        "# min_samples minimo di numero dei campioni per foglia, se il valore scende sotto il minimo non faccio la foglia\n",
        "# per evitare l'overfitting.\n",
        "# Diamo i pesi da associare alle classi, diamo dei pesi unitari. Alla classe 0, diamo il peso 1. Alla classe 1, diamo il \n",
        "# peso 1 e così via.\n",
        "clf = tree.DecisionTreeClassifier(criterion=\"entropy\",random_state=300,min_samples_leaf=5,class_weight={0:1,1:1,2:1})"
      ]
    },
    {
      "cell_type": "markdown",
      "metadata": {
        "id": "iqH8H1UD7H_H"
      },
      "source": [
        "# Dividiamo il dataset in training e test set"
      ]
    },
    {
      "cell_type": "code",
      "execution_count": null,
      "metadata": {
        "id": "gSKsWOoz7H_I"
      },
      "outputs": [],
      "source": [
        "# Generiamo una permutazione casuale degli indici degli esempiche verranno usati per il training e il test set\n",
        "import numpy as np\n",
        "np.random.seed(0)\n",
        "# Prendiamo un vettore pari alla lunghezza del dataset (lunghezza iris è 150) ordinandoli in modo casuale\n",
        "indices = np.random.permutation(len(iris.data))\n",
        "\n",
        "# Decidiamo di tenere gli ultimi 10 indici per il test set, i rimanenti per il training set\n",
        "indices_training=indices[:-10]\n",
        "indices_test=indices[-10:]\n",
        "\n",
        "# Componiamo le matrici dividendo training e test set con le relative classi target\n",
        "iris_X_train = iris.data[indices_training] # teniamo per il training tutti gli elementi della  matrice tranne gli ultimi 10 \n",
        "iris_y_train = iris.target[indices_training]\n",
        "iris_X_test  = iris.data[indices_test] # teniamo da parte gli ultimi 10 elementi per il test set\n",
        "iris_y_test  = iris.target[indices_test]"
      ]
    },
    {
      "cell_type": "markdown",
      "metadata": {
        "id": "vNbXUYI07H_K"
      },
      "source": [
        "# Fittiamo il modello sul training set"
      ]
    },
    {
      "cell_type": "code",
      "execution_count": null,
      "metadata": {
        "id": "1A3MqXZs7H_L"
      },
      "outputs": [],
      "source": [
        "# fit the model to the training data\n",
        "# Qua avviene il vero e proprio apprendimento\n",
        "clf = clf.fit(iris_X_train, iris_y_train)"
      ]
    },
    {
      "cell_type": "markdown",
      "metadata": {
        "id": "FPdjlWZB7H_P"
      },
      "source": [
        "# Otteniamo le predizioni"
      ]
    },
    {
      "cell_type": "code",
      "execution_count": null,
      "metadata": {
        "id": "qMP6rS-97H_P",
        "outputId": "e0f9707c-5465-4128-9eb2-0c43f4a3f75b"
      },
      "outputs": [],
      "source": [
        "# Chiediamo di predire le classi del test set\n",
        "# applichiamo il modello fittato in \"clf\" al test set \n",
        "predicted_y_test = clf.predict(iris_X_test)\n",
        "\n",
        "# visualizziamo le predizioni (gli indici delle classi associati ai nomi delle classi in target_names)\n",
        "print(\"Predictions:\")\n",
        "print(predicted_y_test)\n",
        "print(\"True classes:\")\n",
        "print(iris_y_test) \n",
        "print(iris.target_names)\n",
        "\n",
        "# Vediamo che c'è solo un errore sul secondo esempio"
      ]
    },
    {
      "cell_type": "markdown",
      "metadata": {
        "id": "8TZyuYLx7H_T"
      },
      "source": [
        "Visualizza l'indice delle instanze di test e le corrispondenti predizioni"
      ]
    },
    {
      "cell_type": "code",
      "execution_count": null,
      "metadata": {
        "id": "qRz0f9NK7H_T",
        "outputId": "4a04bd5b-ee05-491d-8cac-adcfd17fb81f"
      },
      "outputs": [],
      "source": [
        "# print the corresponding instances indexes and class names \n",
        "for i in range(len(iris_y_test)): \n",
        "    print(\"Instance # \"+str(indices_test[i])+\": \")\n",
        "    print(\"Predicted: \"+iris.target_names[predicted_y_test[i]]+\"\\t True: \"+iris.target_names[iris_y_test[i]]+\"\\n\")"
      ]
    },
    {
      "cell_type": "markdown",
      "metadata": {
        "id": "yj3hYAqQ7H_W"
      },
      "source": [
        "# Vediamo alcuni esempi"
      ]
    },
    {
      "cell_type": "code",
      "execution_count": null,
      "metadata": {
        "id": "HGKB-S6b7H_X",
        "outputId": "819c7ba9-56a8-41dc-f61e-d59a1a893ffe"
      },
      "outputs": [],
      "source": [
        "for i in range(len(iris_y_test)): \n",
        "    print(\"Instance # \"+str(indices_test[i])+\": \")\n",
        "    s=\"\"\n",
        "    for j in range(len(iris.feature_names)):\n",
        "        s=s+iris.feature_names[j]+\"=\"+str(iris_X_test[i][j])\n",
        "        if (j<len(iris.feature_names)-1): s=s+\", \"\n",
        "    print(s)\n",
        "    print(\"Predicted: \"+iris.target_names[predicted_y_test[i]]+\"\\t True: \"+iris.target_names[iris_y_test[i]]+\"\\n\")"
      ]
    },
    {
      "cell_type": "markdown",
      "metadata": {
        "id": "r9zos0wm7H_Z"
      },
      "source": [
        "# Otteniamo i risultati delle predizioni (model performance results)"
      ]
    },
    {
      "cell_type": "code",
      "execution_count": null,
      "metadata": {
        "id": "HBNKQQqa7H_a",
        "outputId": "09c73bd7-5f55-4409-8958-0705aa4b73be"
      },
      "outputs": [],
      "source": [
        "# print some metrics results\n",
        "from sklearn.metrics import accuracy_score\n",
        "from sklearn.metrics import f1_score\n",
        "acc_score = accuracy_score(iris_y_test, predicted_y_test)\n",
        "print(\"Accuracy score: \"+ str(acc_score))\n",
        "\n",
        "# Recall capacità di richiamare correttamente gli esempi\n",
        "# f1 score è la media armonica e si moltiplica per due perchè sia recall che precision hanno lo stesso peso\n",
        "f1=f1_score(iris_y_test, predicted_y_test, average='macro')\n",
        "print(\"F1 score: \"+str(f1))"
      ]
    },
    {
      "cell_type": "markdown",
      "metadata": {
        "id": "MNO0xcGq7H_c"
      },
      "source": [
        "# Usiamo la Cross Validation"
      ]
    },
    {
      "cell_type": "code",
      "execution_count": null,
      "metadata": {
        "id": "wmt414Lm7H_c",
        "outputId": "da09947d-d490-4717-cd7c-c2c544a0d261"
      },
      "outputs": [],
      "source": [
        "from sklearn.datasets import load_iris\n",
        "from sklearn.model_selection import cross_val_score # will be used to separate training and test\n",
        "iris = load_iris()\n",
        "clf = tree.DecisionTreeClassifier(criterion=\"entropy\",random_state=300,min_samples_leaf=5,class_weight={0:1,1:1,2:1})\n",
        "clf = clf.fit(iris.data, iris.target)\n",
        "\n",
        "# Gli passiamo il calssificatore che è stato fittato, la matrice dei dati, la matrice dei target\n",
        "# cv le soglie di taglio, 5 cluster vector, ogni cluster 30 esempi perchè abbiamo 150 esempi.\n",
        "scores = cross_val_score(clf, iris.data, iris.target, cv=5) # score will be the accuracy\n",
        "print(scores)"
      ]
    },
    {
      "cell_type": "code",
      "execution_count": null,
      "metadata": {
        "id": "P-rd5Dq77H_e",
        "outputId": "0c1f75ee-948a-4184-a9f1-7c10a7747aeb"
      },
      "outputs": [],
      "source": [
        "# computes F1- score\n",
        "f1_scores = cross_val_score(clf, iris.data, iris.target, cv=5, scoring='f1_macro')\n",
        "print(f1_scores)"
      ]
    },
    {
      "cell_type": "markdown",
      "metadata": {
        "id": "qcnegz_A7H_h"
      },
      "source": [
        "# Mostriamo l'albero risultante "
      ]
    },
    {
      "cell_type": "markdown",
      "metadata": {
        "id": "hrA-f0e27H_i"
      },
      "source": [
        "## 1. Visualizza la figura dell'albero in un file PDF"
      ]
    },
    {
      "cell_type": "code",
      "execution_count": null,
      "metadata": {
        "id": "rPYEWkcH7H_i",
        "outputId": "28d4261a-7ad1-47a1-ab5d-a0583bfc014d",
        "scrolled": false
      },
      "outputs": [],
      "source": [
        "import graphviz \n",
        "dot_data = tree.export_graphviz(clf, out_file=None) \n",
        "graph = graphviz.Source(dot_data) \n",
        "graph.render(\"my_iris_predictions\")"
      ]
    },
    {
      "cell_type": "markdown",
      "metadata": {
        "id": "iM67N3vc7H_k"
      },
      "source": [
        "## 2. Genera la figura"
      ]
    },
    {
      "cell_type": "code",
      "execution_count": null,
      "metadata": {
        "id": "prgjDOka7H_l",
        "outputId": "2263ea70-f260-4933-80f3-63bc23d00ace"
      },
      "outputs": [],
      "source": [
        "print(list(iris.feature_names))\n",
        "print(list(iris.target_names))"
      ]
    },
    {
      "cell_type": "code",
      "execution_count": null,
      "metadata": {
        "id": "Pr32sBno7H_n",
        "outputId": "6f741234-c217-448b-b711-ed46e541e862"
      },
      "outputs": [],
      "source": [
        "dot_data = tree.export_graphviz(clf, out_file=None, \n",
        "                         feature_names=iris.feature_names, \n",
        "                         class_names=iris.target_names, \n",
        "                         filled=True, rounded=True,  \n",
        "                         special_characters=True)  \n",
        "graph = graphviz.Source(dot_data)  \n",
        "graph"
      ]
    },
    {
      "cell_type": "markdown",
      "metadata": {},
      "source": [
        "# Le celle seguenti le creerete voi: ecco cosa dovete fare\n",
        "Modificare questo Jupyter notebook sui decision trees sul dataset Iris e svolgete i seguenti compiti:"
      ]
    },
    {
      "cell_type": "markdown",
      "metadata": {
        "id": "zzHbGJsTOoQU"
      },
      "source": [
        "1. applicate un sovracampionamento (artificial inflation) ad una classe nel training set con un determinato fattore: 10 (si pesi di più una delle classi tra virginica o versicolor che sono più difficili da discriminare). Si apprenda l'albero di decisione in queste condizioni.\n",
        "    - 1b. modifcare i pesi della stessa classe (si metta a 10 il peso per l'errata predizione ad esempio di Virginica in Versicolor o viceversa) e si apprenda  l'albero in queste condizioni. Dovreste ottenere risultati simili a quelli del punto 1."
      ]
    },
    {
      "cell_type": "code",
      "execution_count": null,
      "metadata": {},
      "outputs": [],
      "source": [
        "from sklearn.datasets import load_iris\n",
        "from sklearn.model_selection import cross_val_score # will be used to separate training and test\n",
        "iris = load_iris()\n",
        "clf = tree.DecisionTreeClassifier(criterion=\"entropy\",random_state=300,min_samples_leaf=5,class_weight={0:1,1:1,2:10})\n",
        "clf = clf.fit(iris.data, iris.target)\n",
        "\n",
        "# Gli passiamo il calssificatore che è stato fittato, la matrice dei dati, la matrice dei target\n",
        "# cv le soglie di taglio, 5 cluster vector, ogni cluster 30 esempi perchè abbiamo 150 esempi.\n",
        "# cv quindi sono 5 fold.\n",
        "scores = cross_val_score(clf, iris.data, iris.target, cv=5) # score will be the accuracy\n",
        "print(scores)\n",
        "\n",
        "# TODO Duplicare a mano gli esempi "
      ]
    },
    {
      "cell_type": "code",
      "execution_count": null,
      "metadata": {},
      "outputs": [],
      "source": [
        "from sklearn.datasets import load_iris\n",
        "from sklearn.model_selection import cross_val_score # will be used to separate training and test\n",
        "iris = load_iris()\n",
        "clf = tree.DecisionTreeClassifier(criterion=\"entropy\",random_state=300,min_samples_leaf=5,class_weight={0:1,1:10,2:1})\n",
        "clf = clf.fit(iris.data, iris.target)\n",
        "\n",
        "# Gli passiamo il calssificatore che è stato fittato, la matrice dei dati, la matrice dei target\n",
        "# cv le soglie di taglio, 5 cluster vector, ogni cluster 30 esempi perchè abbiamo 150 esempi.\n",
        "# cv quindi sono 5 fold.\n",
        "scores = cross_val_score(clf, iris.data, iris.target, cv=5) # score will be the accuracy\n",
        "print(scores)\n",
        "dot_data = tree.export_graphviz(clf, out_file=None, \n",
        "                         feature_names=iris.feature_names, \n",
        "                         class_names=iris.target_names, \n",
        "                         filled=True, rounded=True,  \n",
        "                         special_characters=True)  \n",
        "graph = graphviz.Source(dot_data)  \n",
        "graph"
      ]
    },
    {
      "cell_type": "markdown",
      "metadata": {},
      "source": [
        "2. si apprendano gli alberi cercando di evitare l'overfitting (migliorando l'errore sul test set) facendo 'tuning' degli iper-parametri: il minimo numero dei campioni per foglia, la massima profondità dell'albero, i parametri di minomo decremento dell'impurezza, massimo numero dei nodi foglia, ecc."
      ]
    },
    {
      "cell_type": "code",
      "execution_count": null,
      "metadata": {},
      "outputs": [],
      "source": [
        "from sklearn.datasets import load_iris\n",
        "from sklearn.model_selection import cross_val_score # will be used to separate training and test\n",
        "iris = load_iris()\n",
        "clf = tree.DecisionTreeClassifier(criterion=\"entropy\",random_state=300,min_samples_leaf=5,max_leaf_nodes=3,min_impurity_decrease=0.2,max_depth=2,class_weight={0:1,1:10,2:1})\n",
        "clf = clf.fit(iris.data, iris.target)\n",
        "\n",
        "# Gli passiamo il calssificatore che è stato fittato, la matrice dei dati, la matrice dei target\n",
        "# cv le soglie di taglio, 5 cluster vector, ogni cluster 30 esempi perchè abbiamo 150 esempi.\n",
        "# cv quindi sono 5 fold.\n",
        "scores = cross_val_score(clf, iris.data, iris.target, cv=5) # score will be the accuracy\n",
        "print(scores)\n",
        "dot_data = tree.export_graphviz(clf, out_file=None, \n",
        "                         feature_names=iris.feature_names, \n",
        "                         class_names=iris.target_names, \n",
        "                         filled=True, rounded=True,  \n",
        "                         special_characters=True)  \n",
        "graph = graphviz.Source(dot_data)  \n",
        "graph\n",
        "\n",
        "# In questo modo si vede che in confronto a prima classifica molto meglio perchè versicolo non ha un sacco di nodi foglia,\n",
        "# ma solo uno. Non ha senso splittare un nodo versicolor in altri nodi che comunque hanno target versicolor."
      ]
    },
    {
      "cell_type": "markdown",
      "metadata": {},
      "source": [
        "3. si costruisca la matrice di confusione dell'albero creato  sul test set e la si visualizzi. "
      ]
    },
    {
      "cell_type": "code",
      "execution_count": 32,
      "metadata": {},
      "outputs": [
        {
          "data": {
            "text/plain": [
              "<sklearn.metrics._plot.confusion_matrix.ConfusionMatrixDisplay at 0x24c48a01180>"
            ]
          },
          "execution_count": 32,
          "metadata": {},
          "output_type": "execute_result"
        },
        {
          "data": {
            "image/png": "[encoded data removed]",
            "text/plain": [
              "<Figure size 640x480 with 2 Axes>"
            ]
          },
          "metadata": {},
          "output_type": "display_data"
        }
      ],
      "source": [
        "from sklearn.metrics import confusion_matrix, ConfusionMatrixDisplay\n",
        "import numpy as np\n",
        "import matplotlib.pyplot as plt\n",
        "\n",
        "np.random.seed(0)\n",
        "# Prendiamo un vettore pari alla lunghezza del dataset (lunghezza iris è 150) ordinandoli in modo casuale\n",
        "indices = np.random.permutation(len(iris.data))\n",
        "\n",
        "# Decidiamo di tenere gli ultimi 10 indici per il test set, i rimanenti per il training set\n",
        "indices_training=indices[:-10]\n",
        "indices_test=indices[-10:]\n",
        "\n",
        "# Componiamo le matrici dividendo training e test set con le relative classi target\n",
        "iris_X_train = iris.data[indices_training] # teniamo per il training tutti gli elementi della  matrice tranne gli ultimi 10 \n",
        "iris_y_train = iris.target[indices_training]\n",
        "iris_X_test  = iris.data[indices_test] # teniamo da parte gli ultimi 10 elementi per il test set\n",
        "iris_y_test  = iris.target[indices_test]\n",
        "\n",
        "# Fittiamo il modello\n",
        "clf = tree.DecisionTreeClassifier(criterion=\"entropy\",random_state=300,min_samples_leaf=5,max_leaf_nodes=3,min_impurity_decrease=0.2,max_depth=2,class_weight={0:1,1:10,2:1})\n",
        "clf = clf.fit(iris_X_train, iris_y_train)\n",
        "\n",
        "# Predizioni sul test set\n",
        "predicted_y_test = clf.predict(iris_X_test)\n",
        "\n",
        "mc = confusion_matrix(iris_y_test, predicted_y_test)\n",
        "mc\n",
        "\n",
        "disp = ConfusionMatrixDisplay(confusion_matrix=mc,\n",
        "                               display_labels=clf.classes_)\n",
        "\n",
        "disp.plot()"
      ]
    },
    {
      "cell_type": "markdown",
      "metadata": {
        "id": "90GvIMjgeUue"
      },
      "source": [
        "\n",
        "4. si costruiscano le curve ROC (o curve nello spazio di coverage) e le si mostri per ciascun modello ad albero creato su un problema binario (con 1 sola classe positiva): per ciascun modello dovete costruire tre curve, una per ciascuna classe, considerata a turno la classe positiva. (scikit learn roc curve)"
      ]
    },
    {
      "cell_type": "code",
      "execution_count": null,
      "metadata": {},
      "outputs": [],
      "source": [
        "from sklearn.datasets import load_iris\n",
        "from sklearn.model_selection import cross_val_score # will be used to separate training and test\n",
        "from sklearn import metrics\n",
        "import numpy as np\n",
        "import matplotlib.pyplot as plt\n",
        "iris = load_iris()\n",
        "print(iris.target)\n",
        "newTarget = iris.target\n",
        "newTarget[newTarget == 2] = 1\n",
        "\n",
        "iris.target = newTarget\n",
        "print(iris.target)\n",
        "iris.target_names = np.array(['setosa', 'not setosa'])\n",
        "\n",
        "np.random.seed(0)\n",
        "# Prendiamo un vettore pari alla lunghezza del dataset (lunghezza iris è 150) ordinandoli in modo casuale\n",
        "indices = np.random.permutation(len(iris.data))\n",
        "\n",
        "# Decidiamo di tenere gli ultimi 10 indici per il test set, i rimanenti per il training set\n",
        "indices_training=indices[:-10]\n",
        "indices_test=indices[-10:]\n",
        "\n",
        "# Componiamo le matrici dividendo training e test set con le relative classi target\n",
        "iris_X_train = iris.data[indices_training] # teniamo per il training tutti gli elementi della  matrice tranne gli ultimi 10 \n",
        "iris_y_train = iris.target[indices_training]\n",
        "iris_X_test  = iris.data[indices_test] # teniamo da parte gli ultimi 10 elementi per il test set\n",
        "iris_y_test  = iris.target[indices_test]\n",
        "\n",
        "# Fittiamo il modello\n",
        "clf = tree.DecisionTreeClassifier(criterion=\"entropy\",random_state=300,min_samples_leaf=5,max_leaf_nodes=3,min_impurity_decrease=0.2,max_depth=2,class_weight={0:1,1:1})\n",
        "clf = clf.fit(iris_X_train, iris_y_train)\n",
        "\n",
        "metrics.RocCurveDisplay.from_estimator(\n",
        "    clf, iris_X_test, iris_y_test)"
      ]
    },
    {
      "cell_type": "code",
      "execution_count": 4,
      "metadata": {},
      "outputs": [
        {
          "name": "stdout",
          "output_type": "stream",
          "text": [
            "[0 0 0 0 0 0 0 0 0 0 0 0 0 0 0 0 0 0 0 0 0 0 0 0 0 0 0 0 0 0 0 0 0 0 0 0 0\n",
            " 0 0 0 0 0 0 0 0 0 0 0 0 0 1 1 1 1 1 1 1 1 1 1 1 1 1 1 1 1 1 1 1 1 1 1 1 1\n",
            " 1 1 1 1 1 1 1 1 1 1 1 1 1 1 1 1 1 1 1 1 1 1 1 1 1 1 2 2 2 2 2 2 2 2 2 2 2\n",
            " 2 2 2 2 2 2 2 2 2 2 2 2 2 2 2 2 2 2 2 2 2 2 2 2 2 2 2 2 2 2 2 2 2 2 2 2 2\n",
            " 2 2]\n",
            "[1 1 1 1 1 1 1 1 1 1 1 1 1 1 1 1 1 1 1 1 1 1 1 1 1 1 1 1 1 1 1 1 1 1 1 1 1\n",
            " 1 1 1 1 1 1 1 1 1 1 1 1 1 1 1 1 1 1 1 1 1 1 1 1 1 1 1 1 1 1 1 1 1 1 1 1 1\n",
            " 1 1 1 1 1 1 1 1 1 1 1 1 1 1 1 1 1 1 1 1 1 1 1 1 1 1 1 1 1 1 1 1 1 1 1 1 1\n",
            " 1 1 1 1 1 1 1 1 1 1 1 1 1 1 1 1 1 1 1 1 1 1 1 1 1 1 1 1 1 1 1 1 1 1 1 1 1\n",
            " 1 1]\n"
          ]
        },
        {
          "ename": "IndexError",
          "evalue": "index 1 is out of bounds for axis 0 with size 1",
          "output_type": "error",
          "traceback": [
            "\u001b[1;31m---------------------------------------------------------------------------\u001b[0m",
            "\u001b[1;31mIndexError\u001b[0m                                Traceback (most recent call last)",
            "Cell \u001b[1;32mIn [4], line 35\u001b[0m\n\u001b[0;32m     32\u001b[0m clf \u001b[39m=\u001b[39m tree\u001b[39m.\u001b[39mDecisionTreeClassifier(criterion\u001b[39m=\u001b[39m\u001b[39m\"\u001b[39m\u001b[39mentropy\u001b[39m\u001b[39m\"\u001b[39m,random_state\u001b[39m=\u001b[39m\u001b[39m300\u001b[39m,min_samples_leaf\u001b[39m=\u001b[39m\u001b[39m5\u001b[39m,max_leaf_nodes\u001b[39m=\u001b[39m\u001b[39m3\u001b[39m,min_impurity_decrease\u001b[39m=\u001b[39m\u001b[39m0.2\u001b[39m,max_depth\u001b[39m=\u001b[39m\u001b[39m2\u001b[39m,class_weight\u001b[39m=\u001b[39m{\u001b[39m0\u001b[39m:\u001b[39m1\u001b[39m,\u001b[39m1\u001b[39m:\u001b[39m1\u001b[39m})\n\u001b[0;32m     33\u001b[0m clf \u001b[39m=\u001b[39m clf\u001b[39m.\u001b[39mfit(iris_X_train, iris_y_train)\n\u001b[1;32m---> 35\u001b[0m metrics\u001b[39m.\u001b[39;49mRocCurveDisplay\u001b[39m.\u001b[39;49mfrom_estimator(\n\u001b[0;32m     36\u001b[0m     clf, iris_X_test, iris_y_test)\n",
            "File \u001b[1;32mc:\\Users\\lores\\AppData\\Local\\Programs\\Python\\Python310\\lib\\site-packages\\sklearn\\metrics\\_plot\\roc_curve.py:231\u001b[0m, in \u001b[0;36mRocCurveDisplay.from_estimator\u001b[1;34m(cls, estimator, X, y, sample_weight, drop_intermediate, response_method, pos_label, name, ax, **kwargs)\u001b[0m\n\u001b[0;32m    227\u001b[0m check_matplotlib_support(\u001b[39mf\u001b[39m\u001b[39m\"\u001b[39m\u001b[39m{\u001b[39;00m\u001b[39mcls\u001b[39m\u001b[39m.\u001b[39m\u001b[39m__name__\u001b[39m\u001b[39m}\u001b[39;00m\u001b[39m.from_estimator\u001b[39m\u001b[39m\"\u001b[39m)\n\u001b[0;32m    229\u001b[0m name \u001b[39m=\u001b[39m estimator\u001b[39m.\u001b[39m\u001b[39m__class__\u001b[39m\u001b[39m.\u001b[39m\u001b[39m__name__\u001b[39m \u001b[39mif\u001b[39;00m name \u001b[39mis\u001b[39;00m \u001b[39mNone\u001b[39;00m \u001b[39melse\u001b[39;00m name\n\u001b[1;32m--> 231\u001b[0m y_pred, pos_label \u001b[39m=\u001b[39m _get_response(\n\u001b[0;32m    232\u001b[0m     X,\n\u001b[0;32m    233\u001b[0m     estimator,\n\u001b[0;32m    234\u001b[0m     response_method\u001b[39m=\u001b[39;49mresponse_method,\n\u001b[0;32m    235\u001b[0m     pos_label\u001b[39m=\u001b[39;49mpos_label,\n\u001b[0;32m    236\u001b[0m )\n\u001b[0;32m    238\u001b[0m \u001b[39mreturn\u001b[39;00m \u001b[39mcls\u001b[39m\u001b[39m.\u001b[39mfrom_predictions(\n\u001b[0;32m    239\u001b[0m     y_true\u001b[39m=\u001b[39my,\n\u001b[0;32m    240\u001b[0m     y_pred\u001b[39m=\u001b[39my_pred,\n\u001b[1;32m   (...)\u001b[0m\n\u001b[0;32m    246\u001b[0m     \u001b[39m*\u001b[39m\u001b[39m*\u001b[39mkwargs,\n\u001b[0;32m    247\u001b[0m )\n",
            "File \u001b[1;32mc:\\Users\\lores\\AppData\\Local\\Programs\\Python\\Python310\\lib\\site-packages\\sklearn\\metrics\\_plot\\base.py:103\u001b[0m, in \u001b[0;36m_get_response\u001b[1;34m(X, estimator, response_method, pos_label)\u001b[0m\n\u001b[0;32m    101\u001b[0m \u001b[39melse\u001b[39;00m:\n\u001b[0;32m    102\u001b[0m     class_idx \u001b[39m=\u001b[39m \u001b[39m1\u001b[39m\n\u001b[1;32m--> 103\u001b[0m     pos_label \u001b[39m=\u001b[39m estimator\u001b[39m.\u001b[39;49mclasses_[class_idx]\n\u001b[0;32m    105\u001b[0m \u001b[39mif\u001b[39;00m y_pred\u001b[39m.\u001b[39mndim \u001b[39m!=\u001b[39m \u001b[39m1\u001b[39m:  \u001b[39m# `predict_proba`\u001b[39;00m\n\u001b[0;32m    106\u001b[0m     y_pred_shape \u001b[39m=\u001b[39m y_pred\u001b[39m.\u001b[39mshape[\u001b[39m1\u001b[39m]\n",
            "\u001b[1;31mIndexError\u001b[0m: index 1 is out of bounds for axis 0 with size 1"
          ]
        }
      ],
      "source": [
        "from sklearn.datasets import load_iris\n",
        "from sklearn.model_selection import cross_val_score # will be used to separate training and test\n",
        "from sklearn import metrics\n",
        "import numpy as np\n",
        "import matplotlib.pyplot as plt\n",
        "iris = load_iris()\n",
        "print(iris.target)\n",
        "newTarget = iris.target\n",
        "newTarget[newTarget == 1] = 0\n",
        "newTarget[newTarget == 0] = 1\n",
        "newTarget[newTarget == 2] = 1\n",
        "\n",
        "iris.target = newTarget\n",
        "print(iris.target)\n",
        "iris.target_names = np.array(['versicol', 'not versicol'])\n",
        "\n",
        "np.random.seed(0)\n",
        "# Prendiamo un vettore pari alla lunghezza del dataset (lunghezza iris è 150) ordinandoli in modo casuale\n",
        "indices = np.random.permutation(len(iris.data))\n",
        "\n",
        "# Decidiamo di tenere gli ultimi 10 indici per il test set, i rimanenti per il training set\n",
        "indices_training=indices[:-10]\n",
        "indices_test=indices[-10:]\n",
        "\n",
        "# Componiamo le matrici dividendo training e test set con le relative classi target\n",
        "iris_X_train = iris.data[indices_training] # teniamo per il training tutti gli elementi della  matrice tranne gli ultimi 10 \n",
        "iris_y_train = iris.target[indices_training]\n",
        "iris_X_test  = iris.data[indices_test] # teniamo da parte gli ultimi 10 elementi per il test set\n",
        "iris_y_test  = iris.target[indices_test]\n",
        "\n",
        "# Fittiamo il modello\n",
        "clf = tree.DecisionTreeClassifier(criterion=\"entropy\",random_state=300,min_samples_leaf=5,max_leaf_nodes=3,min_impurity_decrease=0.2,max_depth=2,class_weight={0:1,1:1})\n",
        "clf = clf.fit(iris_X_train, iris_y_train)\n",
        "\n",
        "metrics.RocCurveDisplay.from_estimator(\n",
        "    clf, iris_X_test, iris_y_test)"
      ]
    }
  ],
  "metadata": {
    "anaconda-cloud": {},
    "colab": {
      "provenance": [],
      "toc_visible": true
    },
    "kernelspec": {
      "display_name": "Python 3.10.8 64-bit",
      "language": "python",
      "name": "python3"
    },
    "language_info": {
      "codemirror_mode": {
        "name": "ipython",
        "version": 3
      },
      "file_extension": ".py",
      "mimetype": "text/x-python",
      "name": "python",
      "nbconvert_exporter": "python",
      "pygments_lexer": "ipython3",
      "version": "3.10.8"
    },
    "vscode": {
      "interpreter": {
        "hash": "7ce7c4955edd13c30a4146b31fdc101573b4ef2482afd4a7ebc3004a50006c28"
      }
    }
  },
  "nbformat": 4,
  "nbformat_minor": 0
}
